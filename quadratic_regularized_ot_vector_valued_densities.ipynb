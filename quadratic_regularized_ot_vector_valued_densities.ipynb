{
 "cells": [
  {
   "cell_type": "code",
   "execution_count": 3,
   "id": "acb4cf50",
   "metadata": {
    "ExecuteTime": {
     "start_time": "2023-04-28T11:18:42.028231Z",
     "end_time": "2023-04-28T11:18:42.182679Z"
    }
   },
   "outputs": [],
   "source": [
    "import torch\n",
    "import torch.nn\n",
    "import torch.optim\n",
    "\n",
    "import GraphX as gx\n",
    "import ConnectionGraphX as cgx\n",
    "import numpy as np\n",
    "import networkx as nx\n",
    "import scipy as sp\n",
    "\n",
    "import ConnectionNetworkX as cnx\n",
    "\n",
    "import matplotlib\n",
    "import matplotlib.pyplot as plt\n",
    "from tqdm import tqdm\n"
   ]
  },
  {
   "cell_type": "code",
   "execution_count": 4,
   "id": "e96f019b",
   "metadata": {
    "ExecuteTime": {
     "start_time": "2023-04-28T11:18:42.043430Z",
     "end_time": "2023-04-28T11:18:42.310548Z"
    }
   },
   "outputs": [],
   "source": [
    "'''\n",
    "phi,c: |V|d x 1\n",
    "B: |E|d x |V|d      Connection incidence matrix\n",
    "w: |E| x 1          Edge weights\n",
    "c: |V|d x 1         c = alpha-beta; i.e. difference of densities\n",
    "'''\n",
    "def loss_fn(phi, B, w, c, alpha):\n",
    "    loss0 = -torch.sum(phi*c)\n",
    "    \n",
    "    loss1 = torch.matmul(B, phi).reshape((w.shape[0],-1))\n",
    "    loss1 = torch.linalg.norm(loss1, dim=1)\n",
    "    loss1 = loss1 - w\n",
    "    loss1 = torch.nn.ReLU()(loss1)\n",
    "    loss1 = torch.sum(loss1**2)\n",
    "    \n",
    "    loss = loss0 + (0.5/alpha)*loss1\n",
    "    return loss"
   ]
  },
  {
   "cell_type": "code",
   "execution_count": 5,
   "id": "5da74e86",
   "metadata": {
    "ExecuteTime": {
     "start_time": "2023-04-28T11:18:42.054926Z",
     "end_time": "2023-04-28T11:18:42.331037Z"
    }
   },
   "outputs": [],
   "source": [
    "def optimize(B, w, c, alpha, learning_rate, n_epochs, phi0 = None, print_freq=10):\n",
    "    if phi0 is None:\n",
    "        phi = torch.randn(B.shape[1], 1, requires_grad=True)\n",
    "    else:\n",
    "        phi = torch.tensor(phi0, requires_grad=True)\n",
    "    optimizer = torch.optim.Adam([phi], lr=learning_rate)\n",
    "    for epoch in range(n_epochs):\n",
    "        # Compute loss\n",
    "        loss = loss_fn(phi, B, w, c, alpha)\n",
    "\n",
    "        # Backpropagation\n",
    "        optimizer.zero_grad()\n",
    "        loss.backward()\n",
    "        optimizer.step()\n",
    "\n",
    "        if epoch % print_freq == 0:\n",
    "            print(f\"epoch: {epoch}, loss: {loss:>7f}\")\n",
    "    return phi"
   ]
  },
  {
   "cell_type": "markdown",
   "id": "91b2a64b",
   "metadata": {},
   "source": [
    "# Define B, w and c"
   ]
  },
  {
   "cell_type": "code",
   "execution_count": 6,
   "id": "c110a28d",
   "metadata": {
    "ExecuteTime": {
     "start_time": "2023-04-28T11:18:42.074420Z",
     "end_time": "2023-04-28T11:18:42.343236Z"
    }
   },
   "outputs": [],
   "source": [
    "NODES = 2\n",
    "EDGES = 1\n",
    "seed = 42\n",
    "\n",
    "a = nx.adjacency_matrix(nx.gnm_random_graph(NODES, EDGES, seed=seed))\n",
    "\n",
    "# a = np.array([[0, 1, 1], [1, 0, 1], [1, 1, 0]])\n",
    "g = gx.GraphX(sp.sparse.csr_matrix.toarray(a))\n",
    "\n",
    "DIM_CONNECTION = 2\n",
    "h = cgx.ConnectionGraphX(sp.sparse.csr_matrix.toarray(a), DIM_CONNECTION)"
   ]
  },
  {
   "cell_type": "code",
   "execution_count": 7,
   "id": "a4f18bec",
   "metadata": {
    "ExecuteTime": {
     "start_time": "2023-04-28T11:18:42.085226Z",
     "end_time": "2023-04-28T11:18:42.346093Z"
    }
   },
   "outputs": [],
   "source": [
    "B = h.connectionIncidenceMatrix.T.astype('float32')\n",
    "w = np.ones(B.shape[0]//DIM_CONNECTION).astype('float32')\n",
    "\n",
    "np.random.seed(42)\n",
    "def rand_prob_mass(n, d):\n",
    "    mu = np.random.uniform(0, 1, (n, d)).astype('float32')\n",
    "    mu = mu/(mu.sum(axis=0)[None,:])\n",
    "    mu = mu.flatten()[:,None]\n",
    "    return mu\n",
    "\n",
    "mu = rand_prob_mass(h.nNodes, DIM_CONNECTION)\n",
    "nu = rand_prob_mass(h.nNodes, DIM_CONNECTION)\n",
    "c = (mu - nu)"
   ]
  },
  {
   "cell_type": "code",
   "execution_count": 8,
   "id": "61643452",
   "metadata": {
    "ExecuteTime": {
     "start_time": "2023-04-28T11:18:42.094648Z",
     "end_time": "2023-04-28T11:18:42.346775Z"
    }
   },
   "outputs": [
    {
     "data": {
      "text/plain": "array([[-0.39023045,  0.46100134],\n       [ 0.39023048, -0.46100134]], dtype=float32)"
     },
     "execution_count": 8,
     "metadata": {},
     "output_type": "execute_result"
    }
   ],
   "source": [
    "c.reshape((h.nNodes, DIM_CONNECTION))"
   ]
  },
  {
   "cell_type": "code",
   "execution_count": 9,
   "id": "f363ad9a",
   "metadata": {
    "ExecuteTime": {
     "start_time": "2023-04-28T11:18:42.103624Z",
     "end_time": "2023-04-28T11:18:42.349950Z"
    }
   },
   "outputs": [
    {
     "data": {
      "text/plain": "array([2.9802322e-08, 0.0000000e+00], dtype=float32)"
     },
     "execution_count": 9,
     "metadata": {},
     "output_type": "execute_result"
    }
   ],
   "source": [
    "c.reshape((h.nNodes, DIM_CONNECTION)).sum(axis=0)"
   ]
  },
  {
   "cell_type": "markdown",
   "id": "7ed336db",
   "metadata": {},
   "source": [
    "# Check feasibility of B"
   ]
  },
  {
   "cell_type": "code",
   "execution_count": 10,
   "id": "a40b3571",
   "metadata": {
    "ExecuteTime": {
     "start_time": "2023-04-28T11:18:42.117089Z",
     "end_time": "2023-04-28T11:18:42.350318Z"
    }
   },
   "outputs": [
    {
     "name": "stderr",
     "output_type": "stream",
     "text": [
      "/var/folders/0d/431gq5hn0_ngj8qfl5bt02680000gn/T/ipykernel_22543/186593914.py:1: FutureWarning: `rcond` parameter will change to the default of machine precision times ``max(M, N)`` where M and N are the input matrix dimensions.\n",
      "To use the future default and silence this warning we advise to pass `rcond=None`, to keep using the old, explicitly pass `rcond=-1`.\n",
      "  c_sol, residuals, _, _ = np.linalg.lstsq(B.T, c.flatten())\n"
     ]
    }
   ],
   "source": [
    "c_sol, residuals, _, _ = np.linalg.lstsq(B.T, c.flatten())"
   ]
  },
  {
   "cell_type": "code",
   "execution_count": null,
   "outputs": [],
   "source": [
    "residuals"
   ],
   "metadata": {
    "collapsed": false,
    "pycharm": {
     "name": "#%%\n"
    }
   }
  },
  {
   "cell_type": "code",
   "execution_count": null,
   "outputs": [],
   "source": [
    "np.linalg.norm(c.flatten() - B.T.dot(c_sol).flatten())"
   ],
   "metadata": {
    "collapsed": false,
    "pycharm": {
     "name": "#%%\n"
    }
   }
  },
  {
   "cell_type": "code",
   "execution_count": null,
   "outputs": [],
   "source": [
    "learning_rate = 0.01\n",
    "alpha = 1e-5\n",
    "n_epochs = 10000\n",
    "\n",
    "B = torch.tensor(B)\n",
    "w = torch.tensor(w)\n",
    "c = torch.tensor(c)\n",
    "\n",
    "optimize(B, w, c, alpha, learning_rate, n_epochs)"
   ],
   "metadata": {
    "collapsed": false,
    "pycharm": {
     "name": "#%%\n"
    }
   }
  },
  {
   "cell_type": "markdown",
   "source": [
    "# Working example"
   ],
   "metadata": {
    "collapsed": false,
    "pycharm": {
     "name": "#%% md\n"
    }
   }
  },
  {
   "cell_type": "code",
   "execution_count": null,
   "outputs": [],
   "source": [
    "w = np.ones(1)\n",
    "d = 2\n",
    "sigma = np.eye(d)\n",
    "B = np.block([np.sqrt(w)*np.eye(d), -np.sqrt(w)*sigma])\n",
    "\n",
    "np.random.seed(42)\n",
    "mu = np.random.uniform(0, 1, d)\n",
    "mu = mu/mu.sum()\n",
    "nu = np.random.uniform(0, 1, d)\n",
    "nu = nu/nu.sum()\n",
    "c = mu-nu\n",
    "optim_val = np.linalg.norm(c)\n",
    "optim_phi = c/np.linalg.norm(c)\n",
    "c = np.block([c,-c])\n",
    "c = c.reshape((2*d,1))\n",
    "\n",
    "phi0 = np.block([optim_phi,optim_phi*0]).reshape(2*d,1)\n",
    "\n",
    "print(B)\n",
    "print(w)\n",
    "print(c)\n",
    "print(phi0)\n",
    "print(optim_val)\n",
    "\n",
    "B = torch.tensor(B.astype('float32'))\n",
    "w = torch.tensor(w.astype('float32'))\n",
    "c = torch.tensor(c.astype('float32'))\n",
    "phi0 = phi0.astype('float32')"
   ],
   "metadata": {
    "collapsed": false,
    "pycharm": {
     "name": "#%%\n"
    }
   }
  },
  {
   "cell_type": "markdown",
   "source": [
    "# Solve Beckmann - connection problem"
   ],
   "metadata": {
    "collapsed": false,
    "pycharm": {
     "name": "#%% md\n"
    }
   }
  },
  {
   "cell_type": "code",
   "execution_count": null,
   "outputs": [],
   "source": [
    "learning_rate = 0.001\n",
    "alpha = 1e-1\n",
    "n_epochs = 10000"
   ],
   "metadata": {
    "collapsed": false,
    "pycharm": {
     "name": "#%%\n"
    }
   }
  },
  {
   "cell_type": "code",
   "execution_count": null,
   "outputs": [],
   "source": [
    "optimize(B, w, c, alpha, learning_rate, n_epochs, phi0=phi0)"
   ],
   "metadata": {
    "collapsed": false,
    "pycharm": {
     "name": "#%%\n"
    }
   }
  },
  {
   "cell_type": "markdown",
   "source": [
    "# Attempt Beckmann on Puppet Connection Graph"
   ],
   "metadata": {
    "collapsed": false,
    "pycharm": {
     "name": "#%% md\n"
    }
   }
  }
 ],
 "metadata": {
  "kernelspec": {
   "display_name": "Python 3 (ipykernel)",
   "language": "python",
   "name": "python3"
  },
  "language_info": {
   "codemirror_mode": {
    "name": "ipython",
    "version": 3
   },
   "file_extension": ".py",
   "mimetype": "text/x-python",
   "name": "python",
   "nbconvert_exporter": "python",
   "pygments_lexer": "ipython3",
   "version": "3.9.12"
  }
 },
 "nbformat": 4,
 "nbformat_minor": 5
}