{
 "cells": [
  {
   "cell_type": "code",
   "execution_count": 1,
   "metadata": {
    "collapsed": true,
    "ExecuteTime": {
     "start_time": "2023-04-17T10:47:43.845644Z",
     "end_time": "2023-04-17T10:47:48.207983Z"
    }
   },
   "outputs": [
    {
     "name": "stdout",
     "output_type": "stream",
     "text": [
      "matplotlib.get_backend() =  module://matplotlib_inline.backend_inline\n"
     ]
    }
   ],
   "source": [
    "import os\n",
    "from pathlib import Path\n",
    "import random\n",
    "from tqdm import tqdm\n",
    "\n",
    "import puppets_data\n",
    "\n",
    "import numpy as np\n",
    "import scipy\n",
    "import networkx as nx\n",
    "\n",
    "import ConnectionNetworkX as cnx\n",
    "\n",
    "from pyLDLE2 import datasets\n",
    "from pyLDLE2 import buml_\n",
    "from pyLDLE2 import util_\n"
   ]
  },
  {
   "cell_type": "markdown",
   "source": [
    "Initializing and pre-processing the puppets data."
   ],
   "metadata": {
    "collapsed": false
   }
  },
  {
   "cell_type": "markdown",
   "source": [],
   "metadata": {
    "collapsed": false
   }
  },
  {
   "cell_type": "code",
   "execution_count": 3,
   "outputs": [],
   "source": [
    "p = \"/Users/sawyerjack/IdeaProjects/project_data/PuppetsData\"\n",
    "save_dir_root = \"/Users/sawyerjack/IdeaProjects/connection-graph-wasserstein/data\"\n",
    "\n",
    "## Just for time and sanity, using n = 100 while I test things.\n",
    "N_IMAGES = 500"
   ],
   "metadata": {
    "collapsed": false,
    "ExecuteTime": {
     "start_time": "2023-04-17T10:48:01.155991Z",
     "end_time": "2023-04-17T10:48:01.168151Z"
    }
   }
  },
  {
   "cell_type": "code",
   "execution_count": 3,
   "outputs": [
    {
     "name": "stdout",
     "output_type": "stream",
     "text": [
      "X.shape =  (8100, 100)\n"
     ]
    }
   ],
   "source": [
    "Y, labelsMat, _ = puppets_data.puppets_data(p)"
   ],
   "metadata": {
    "collapsed": false,
    "ExecuteTime": {
     "start_time": "2023-04-17T09:59:48.975440Z",
     "end_time": "2023-04-17T10:03:12.616639Z"
    }
   }
  },
  {
   "cell_type": "markdown",
   "source": [
    "Select `N_IMAGES` uniformly at random from the dataset."
   ],
   "metadata": {
    "collapsed": false
   }
  },
  {
   "cell_type": "code",
   "execution_count": 4,
   "outputs": [],
   "source": [
    "X = np.array(Y.copy())\n",
    "totalImages = X.shape[0]\n",
    "sampleIndices = random.sample(range(totalImages), N_IMAGES)\n",
    "X = [ X[i] for i in sampleIndices ]\n",
    "\n",
    "X = np.array(X)"
   ],
   "metadata": {
    "collapsed": false,
    "ExecuteTime": {
     "start_time": "2023-04-17T10:03:12.619232Z",
     "end_time": "2023-04-17T10:03:12.634452Z"
    }
   }
  },
  {
   "cell_type": "markdown",
   "source": [
    "Initialize a model and use Local PCA at each vertex neighborhood."
   ],
   "metadata": {
    "collapsed": false
   }
  },
  {
   "cell_type": "code",
   "execution_count": 5,
   "outputs": [
    {
     "name": "stdout",
     "output_type": "stream",
     "text": [
      "local_opts['k_nn0'] = 375 is created.\n",
      "Options provided:\n",
      "local_opts:\n",
      "{\n",
      "    \"Atilde_method\": \"LDLE_1\",\n",
      "    \"N\": 100,\n",
      "    \"U_method\": \"k_nn\",\n",
      "    \"algo\": \"LPCA\",\n",
      "    \"alpha\": 1,\n",
      "    \"debug\": true,\n",
      "    \"delta\": 0.9,\n",
      "    \"gl_type\": \"unnorm\",\n",
      "    \"k\": 15,\n",
      "    \"k_nn\": 49,\n",
      "    \"k_nn0\": 375,\n",
      "    \"k_tune\": 7,\n",
      "    \"lambda1_decay\": 0.75,\n",
      "    \"lambda1_init\": 8,\n",
      "    \"lambda1_min\": 0.001,\n",
      "    \"max_iter\": 300,\n",
      "    \"max_sparsity\": 0.9,\n",
      "    \"metric\": \"euclidean\",\n",
      "    \"n_proc\": 6,\n",
      "    \"p\": 0.99,\n",
      "    \"power\": 5,\n",
      "    \"pp_n_thresh\": 32,\n",
      "    \"radius\": 0.5,\n",
      "    \"reg\": 0.0,\n",
      "    \"scale_by\": \"gamma\",\n",
      "    \"tau\": 50,\n",
      "    \"to_postprocess\": true,\n",
      "    \"verbose\": true\n",
      "}\n",
      "intermed_opts:\n",
      "{\n",
      "    \"algo\": \"best\",\n",
      "    \"debug\": true,\n",
      "    \"eta_max\": 25,\n",
      "    \"eta_min\": 5,\n",
      "    \"len_S_thresh\": 256,\n",
      "    \"local_algo\": \"LPCA\",\n",
      "    \"metric\": \"euclidean\",\n",
      "    \"n_proc\": 6,\n",
      "    \"n_times\": 4,\n",
      "    \"verbose\": true\n",
      "}\n",
      "global_opts:\n",
      "{\n",
      "    \"add_dim\": false,\n",
      "    \"align_transform\": \"rigid\",\n",
      "    \"align_w_parent_only\": true,\n",
      "    \"alpha\": 0.3,\n",
      "    \"beta\": {\n",
      "        \"align\": null,\n",
      "        \"repel\": 1\n",
      "    },\n",
      "    \"color_tear\": true,\n",
      "    \"compute_error\": false,\n",
      "    \"debug\": true,\n",
      "    \"eps\": 1e-08,\n",
      "    \"err_tol\": 0.0001,\n",
      "    \"far_off_points_type\": \"reuse_fixed\",\n",
      "    \"init_algo_name\": \"procrustes\",\n",
      "    \"k\": 15,\n",
      "    \"max_internal_iter\": 100,\n",
      "    \"max_iter\": 20,\n",
      "    \"metric\": \"euclidean\",\n",
      "    \"n_proc\": 6,\n",
      "    \"n_repel\": 0,\n",
      "    \"nu\": 3,\n",
      "    \"patience\": 5,\n",
      "    \"refine_algo_name\": \"rgd\",\n",
      "    \"repel_by\": 0.0,\n",
      "    \"to_tear\": true,\n",
      "    \"verbose\": true,\n",
      "    \"vis_before_init\": false\n",
      "}\n",
      "Computing local views using LPCA\n",
      "local_param: all 500 points processed...\n",
      "max distortion is 350.177200\n",
      "Done.\n",
      "##############################\n",
      "Time elapsed from last time log: 0.3 seconds\n",
      "Total time elapsed: 0.3 seconds\n",
      "##############################\n",
      "Posprocessing local parameterizations.\n",
      "#Param replaced: 373, max distortion: 26.422304\n",
      "#Param replaced: 51, max distortion: 18.749172\n",
      "#Param replaced: 20, max distortion: 14.906281\n",
      "#Param replaced: 2, max distortion: 14.906281\n",
      "#Param replaced: 3, max distortion: 14.906281\n",
      "#Param replaced: 1, max distortion: 14.906281\n",
      "#Param replaced: 0, max distortion: 14.906281\n",
      "Max local distortion after postprocessing: 14.906280856605013\n",
      "Done.\n",
      "##############################\n",
      "Time elapsed from last time log: 0.9 seconds\n",
      "Total time elapsed: 1.3 seconds\n",
      "##############################\n",
      "Max local distortion = 14.906280856605013\n"
     ]
    }
   ],
   "source": [
    "N_NEAREST_NEIGHBORS = 15\n",
    "\n",
    "buml_obj = buml_.BUML(local_opts={'algo':'LPCA', 'k': N_NEAREST_NEIGHBORS},\n",
    "                      vis_opts={'c': labelsMat[:,0], 'save_dir': save_dir_root},\n",
    "                      verbose=True, debug=True, exit_at='local_views')\n",
    "\n",
    "buml_obj.fit(X=X)\n"
   ],
   "metadata": {
    "collapsed": false,
    "ExecuteTime": {
     "start_time": "2023-04-17T10:03:12.662318Z",
     "end_time": "2023-04-17T10:03:14.143934Z"
    }
   }
  },
  {
   "cell_type": "markdown",
   "source": [
    "Read in the intrinsic dimension of the CNX and then initialize it by symmetrizing the kNN graph."
   ],
   "metadata": {
    "collapsed": false
   }
  },
  {
   "cell_type": "code",
   "execution_count": 6,
   "outputs": [],
   "source": [
    "INTRINSIC_DIMENSION = 2\n",
    "\n",
    "# U is a directed boolean adjacency matrix, so we symmetrize by adding U.T.\n",
    "# This weights directed and double edges equally.\n",
    "puppetGraphAdjacency = buml_obj.LocalViews.U + buml_obj.LocalViews.U.T - scipy.sparse.identity(N_IMAGES, format='lil')\n",
    "\n",
    "puppetGraph = cnx.ConnectionNetworkX(puppetGraphAdjacency, INTRINSIC_DIMENSION)\n"
   ],
   "metadata": {
    "collapsed": false,
    "ExecuteTime": {
     "start_time": "2023-04-17T10:03:14.145046Z",
     "end_time": "2023-04-17T10:03:15.453068Z"
    }
   }
  },
  {
   "cell_type": "markdown",
   "source": [
    "Interpolate the local PCA views by registering the overlap of adjacent nodes' neighborhoods, and then using orthogonal procrustes to align the views. This becomes the connection at the corresponding edge."
   ],
   "metadata": {
    "collapsed": false
   }
  },
  {
   "cell_type": "code",
   "execution_count": 7,
   "outputs": [
    {
     "name": "stderr",
     "output_type": "stream",
     "text": [
      "100%|██████████| 500/500 [00:19<00:00, 25.08it/s] "
     ]
    },
    {
     "name": "stdout",
     "output_type": "stream",
     "text": [
      "Proportion of remote edges :  0.084\n",
      "Proportion of edges visited:  1.0\n"
     ]
    },
    {
     "name": "stderr",
     "output_type": "stream",
     "text": [
      "\n"
     ]
    }
   ],
   "source": [
    "nRemoteEdges = 0\n",
    "nEdgesVisited = 0\n",
    "\n",
    "for i in tqdm(range(N_IMAGES)):\n",
    "    n_i = nx.neighbors(puppetGraph, i)\n",
    "    for j in [j for j in n_i if j > i]:\n",
    "\n",
    "        n_ij = buml_obj.LocalViews.U[i,:].multiply(buml_obj.LocalViews.U[j,:]).nonzero()[1]\n",
    "\n",
    "        if len(n_ij) >= INTRINSIC_DIMENSION:\n",
    "            X_Uij_i = buml_obj.LocalViews.local_param_post.eval_({'view_index': i, 'data_mask': n_ij})\n",
    "            X_Uij_j = buml_obj.LocalViews.local_param_post.eval_({'view_index': j, 'data_mask': n_ij})\n",
    "\n",
    "            Tij, _ = scipy.linalg.orthogonal_procrustes(X_Uij_i, X_Uij_j)\n",
    "            nEdgesVisited += 1\n",
    "\n",
    "            puppetGraph.updateEdgeSignature((i,j), Tij)\n",
    "\n",
    "        else:\n",
    "            puppetGraph.removeEdge((i,j))\n",
    "            nRemoteEdges += 1\n",
    "\n",
    "print('Proportion of remote edges : ', nRemoteEdges / puppetGraph.nNodes)\n",
    "print('Proportion of edges visited: ', nEdgesVisited / puppetGraph.nEdges)"
   ],
   "metadata": {
    "collapsed": false,
    "ExecuteTime": {
     "start_time": "2023-04-17T10:03:15.459763Z",
     "end_time": "2023-04-17T10:03:35.445800Z"
    }
   }
  },
  {
   "cell_type": "code",
   "execution_count": 8,
   "outputs": [
    {
     "name": "stdout",
     "output_type": "stream",
     "text": [
      "[3.81224995 3.66945996 3.60606606 3.58116829 3.5630408  3.48305745\n",
      " 3.39160781 3.29686938 3.0696814  2.8968172 ]\n",
      "MOST LIKELY INCONSISTENT: |lambda_min| >= 1e-8. \n"
     ]
    }
   ],
   "source": [
    "puppetGraph.printConnectionLaplacianEigenvalues()"
   ],
   "metadata": {
    "collapsed": false,
    "ExecuteTime": {
     "start_time": "2023-04-17T10:03:35.426130Z",
     "end_time": "2023-04-17T10:03:35.707467Z"
    }
   }
  },
  {
   "cell_type": "code",
   "execution_count": 4,
   "outputs": [
    {
     "name": "stdout",
     "output_type": "stream",
     "text": [
      "X.shape =  (8100, 100)\n",
      "local_opts['k_nn0'] = 375 is created.\n",
      "Options provided:\n",
      "local_opts:\n",
      "{\n",
      "    \"Atilde_method\": \"LDLE_1\",\n",
      "    \"N\": 100,\n",
      "    \"U_method\": \"k_nn\",\n",
      "    \"algo\": \"LPCA\",\n",
      "    \"alpha\": 1,\n",
      "    \"debug\": true,\n",
      "    \"delta\": 0.9,\n",
      "    \"gl_type\": \"unnorm\",\n",
      "    \"k\": 15,\n",
      "    \"k_nn\": 49,\n",
      "    \"k_nn0\": 375,\n",
      "    \"k_tune\": 7,\n",
      "    \"lambda1_decay\": 0.75,\n",
      "    \"lambda1_init\": 8,\n",
      "    \"lambda1_min\": 0.001,\n",
      "    \"max_iter\": 300,\n",
      "    \"max_sparsity\": 0.9,\n",
      "    \"metric\": \"euclidean\",\n",
      "    \"n_proc\": 6,\n",
      "    \"p\": 0.99,\n",
      "    \"power\": 5,\n",
      "    \"pp_n_thresh\": 32,\n",
      "    \"radius\": 0.5,\n",
      "    \"reg\": 0.0,\n",
      "    \"scale_by\": \"gamma\",\n",
      "    \"tau\": 50,\n",
      "    \"to_postprocess\": true,\n",
      "    \"verbose\": true\n",
      "}\n",
      "intermed_opts:\n",
      "{\n",
      "    \"algo\": \"best\",\n",
      "    \"debug\": true,\n",
      "    \"eta_max\": 25,\n",
      "    \"eta_min\": 5,\n",
      "    \"len_S_thresh\": 256,\n",
      "    \"local_algo\": \"LPCA\",\n",
      "    \"metric\": \"euclidean\",\n",
      "    \"n_proc\": 6,\n",
      "    \"n_times\": 4,\n",
      "    \"verbose\": true\n",
      "}\n",
      "global_opts:\n",
      "{\n",
      "    \"add_dim\": false,\n",
      "    \"align_transform\": \"rigid\",\n",
      "    \"align_w_parent_only\": true,\n",
      "    \"alpha\": 0.3,\n",
      "    \"beta\": {\n",
      "        \"align\": null,\n",
      "        \"repel\": 1\n",
      "    },\n",
      "    \"color_tear\": true,\n",
      "    \"compute_error\": false,\n",
      "    \"debug\": true,\n",
      "    \"eps\": 1e-08,\n",
      "    \"err_tol\": 0.0001,\n",
      "    \"far_off_points_type\": \"reuse_fixed\",\n",
      "    \"init_algo_name\": \"procrustes\",\n",
      "    \"k\": 15,\n",
      "    \"max_internal_iter\": 100,\n",
      "    \"max_iter\": 20,\n",
      "    \"metric\": \"euclidean\",\n",
      "    \"n_proc\": 6,\n",
      "    \"n_repel\": 0,\n",
      "    \"nu\": 3,\n",
      "    \"patience\": 5,\n",
      "    \"refine_algo_name\": \"rgd\",\n",
      "    \"repel_by\": 0.0,\n",
      "    \"to_tear\": true,\n",
      "    \"verbose\": true,\n",
      "    \"vis_before_init\": false\n",
      "}\n",
      "Computing local views using LPCA\n",
      "local_param: all 500 points processed...\n",
      "max distortion is 498.554855\n",
      "Done.\n",
      "##############################\n",
      "Time elapsed from last time log: 0.3 seconds\n",
      "Total time elapsed: 0.3 seconds\n",
      "##############################\n",
      "Posprocessing local parameterizations.\n",
      "#Param replaced: 384, max distortion: 20.299159\n",
      "#Param replaced: 56, max distortion: 14.405354\n",
      "#Param replaced: 16, max distortion: 14.405354\n",
      "#Param replaced: 6, max distortion: 14.405354\n",
      "#Param replaced: 1, max distortion: 14.405354\n",
      "#Param replaced: 0, max distortion: 14.405354\n",
      "Max local distortion after postprocessing: 14.405353541447377\n",
      "Done.\n",
      "##############################\n",
      "Time elapsed from last time log: 0.9 seconds\n",
      "Total time elapsed: 1.2 seconds\n",
      "##############################\n",
      "Max local distortion = 14.405353541447377\n"
     ]
    },
    {
     "name": "stderr",
     "output_type": "stream",
     "text": [
      "100%|██████████| 500/500 [00:19<00:00, 25.33it/s] \n"
     ]
    },
    {
     "name": "stdout",
     "output_type": "stream",
     "text": [
      "Proportion of edges which were removed due to remoteness:  0.010285179990649837\n",
      "[3.59804885 3.5413323  3.45396363 3.34897302 3.24961881 3.17085927\n",
      " 3.07221161 3.06352737 2.90942539 2.78856332]\n",
      "MOST LIKELY INCONSISTENT: |lambda_min| >= 1e-8. \n"
     ]
    }
   ],
   "source": [
    "\n",
    "# puppetGraph = cnx.cnxFromImageDirectory(p, 2, k=15, nImages=500)\n",
    "\n"
   ],
   "metadata": {
    "collapsed": false,
    "ExecuteTime": {
     "start_time": "2023-04-17T10:48:07.631676Z",
     "end_time": "2023-04-17T10:50:44.595134Z"
    }
   }
  },
  {
   "cell_type": "code",
   "execution_count": null,
   "outputs": [],
   "source": [],
   "metadata": {
    "collapsed": false
   }
  }
 ],
 "metadata": {
  "kernelspec": {
   "display_name": "Python 3",
   "language": "python",
   "name": "python3"
  },
  "language_info": {
   "codemirror_mode": {
    "name": "ipython",
    "version": 2
   },
   "file_extension": ".py",
   "mimetype": "text/x-python",
   "name": "python",
   "nbconvert_exporter": "python",
   "pygments_lexer": "ipython2",
   "version": "2.7.6"
  }
 },
 "nbformat": 4,
 "nbformat_minor": 0
}
