{
 "cells": [
  {
   "cell_type": "code",
   "execution_count": 1,
   "metadata": {
    "collapsed": true,
    "ExecuteTime": {
     "start_time": "2023-04-07T12:22:07.918002Z",
     "end_time": "2023-04-07T12:22:12.045233Z"
    }
   },
   "outputs": [
    {
     "name": "stdout",
     "output_type": "stream",
     "text": [
      "matplotlib.get_backend() =  module://matplotlib_inline.backend_inline\n"
     ]
    }
   ],
   "source": [
    "import os\n",
    "from pathlib import Path\n",
    "import random\n",
    "from tqdm import tqdm\n",
    "\n",
    "import puppets_data\n",
    "\n",
    "import numpy as np\n",
    "import scipy\n",
    "import networkx as nx\n",
    "\n",
    "import ConnectionNetworkX as cnx\n",
    "\n",
    "from pyLDLE2 import datasets\n",
    "from pyLDLE2 import buml_\n",
    "from pyLDLE2 import util_\n"
   ]
  },
  {
   "cell_type": "markdown",
   "source": [
    "Initializing and pre-processing the puppets data."
   ],
   "metadata": {
    "collapsed": false
   }
  },
  {
   "cell_type": "markdown",
   "source": [],
   "metadata": {
    "collapsed": false
   }
  },
  {
   "cell_type": "code",
   "execution_count": 2,
   "outputs": [],
   "source": [
    "p = \"/Users/sawyerjack/IdeaProjects/project_data/PuppetsData\"\n",
    "save_dir_root = \"/Users/sawyerjack/IdeaProjects/connection-graph-wasserstein/data\"\n",
    "\n",
    "## Just for time and sanity, using n = 100 while I test things.\n",
    "N_IMAGES = 500"
   ],
   "metadata": {
    "collapsed": false,
    "ExecuteTime": {
     "start_time": "2023-04-07T12:22:12.048668Z",
     "end_time": "2023-04-07T12:22:12.052522Z"
    }
   }
  },
  {
   "cell_type": "code",
   "execution_count": 3,
   "outputs": [
    {
     "name": "stdout",
     "output_type": "stream",
     "text": [
      "X.shape =  (8100, 100)\n"
     ]
    }
   ],
   "source": [
    "Y, labelsMat, _ = puppets_data.puppets_data(p)"
   ],
   "metadata": {
    "collapsed": false,
    "ExecuteTime": {
     "start_time": "2023-04-07T12:22:12.055182Z",
     "end_time": "2023-04-07T12:24:20.282993Z"
    }
   }
  },
  {
   "cell_type": "markdown",
   "source": [
    "Select `N_IMAGES` uniformly at random from the dataset."
   ],
   "metadata": {
    "collapsed": false
   }
  },
  {
   "cell_type": "code",
   "execution_count": 4,
   "outputs": [],
   "source": [
    "X = np.array(Y.copy())\n",
    "totalImages = X.shape[0]\n",
    "sampleIndices = random.sample(range(totalImages), N_IMAGES)\n",
    "X = [ X[i] for i in sampleIndices ]\n",
    "\n",
    "X = np.array(X)"
   ],
   "metadata": {
    "collapsed": false,
    "ExecuteTime": {
     "start_time": "2023-04-07T12:24:20.204480Z",
     "end_time": "2023-04-07T12:24:20.300748Z"
    }
   }
  },
  {
   "cell_type": "markdown",
   "source": [
    "Initialize a model and use Local PCA at each vertex neighborhood."
   ],
   "metadata": {
    "collapsed": false
   }
  },
  {
   "cell_type": "code",
   "execution_count": 5,
   "outputs": [
    {
     "name": "stdout",
     "output_type": "stream",
     "text": [
      "local_opts['k_nn0'] = 375 is created.\n",
      "Options provided:\n",
      "local_opts:\n",
      "{\n",
      "    \"Atilde_method\": \"LDLE_1\",\n",
      "    \"N\": 100,\n",
      "    \"U_method\": \"k_nn\",\n",
      "    \"algo\": \"LPCA\",\n",
      "    \"alpha\": 1,\n",
      "    \"debug\": true,\n",
      "    \"delta\": 0.9,\n",
      "    \"gl_type\": \"unnorm\",\n",
      "    \"k\": 15,\n",
      "    \"k_nn\": 49,\n",
      "    \"k_nn0\": 375,\n",
      "    \"k_tune\": 7,\n",
      "    \"lambda1_decay\": 0.75,\n",
      "    \"lambda1_init\": 8,\n",
      "    \"lambda1_min\": 0.001,\n",
      "    \"max_iter\": 300,\n",
      "    \"max_sparsity\": 0.9,\n",
      "    \"metric\": \"euclidean\",\n",
      "    \"n_proc\": 6,\n",
      "    \"p\": 0.99,\n",
      "    \"power\": 5,\n",
      "    \"pp_n_thresh\": 32,\n",
      "    \"radius\": 0.5,\n",
      "    \"reg\": 0.0,\n",
      "    \"scale_by\": \"gamma\",\n",
      "    \"tau\": 50,\n",
      "    \"to_postprocess\": true,\n",
      "    \"verbose\": true\n",
      "}\n",
      "intermed_opts:\n",
      "{\n",
      "    \"algo\": \"best\",\n",
      "    \"debug\": true,\n",
      "    \"eta_max\": 25,\n",
      "    \"eta_min\": 5,\n",
      "    \"len_S_thresh\": 256,\n",
      "    \"local_algo\": \"LPCA\",\n",
      "    \"metric\": \"euclidean\",\n",
      "    \"n_proc\": 6,\n",
      "    \"n_times\": 4,\n",
      "    \"verbose\": true\n",
      "}\n",
      "global_opts:\n",
      "{\n",
      "    \"add_dim\": false,\n",
      "    \"align_transform\": \"rigid\",\n",
      "    \"align_w_parent_only\": true,\n",
      "    \"alpha\": 0.3,\n",
      "    \"beta\": {\n",
      "        \"align\": null,\n",
      "        \"repel\": 1\n",
      "    },\n",
      "    \"color_tear\": true,\n",
      "    \"compute_error\": false,\n",
      "    \"debug\": true,\n",
      "    \"eps\": 1e-08,\n",
      "    \"err_tol\": 0.0001,\n",
      "    \"far_off_points_type\": \"reuse_fixed\",\n",
      "    \"init_algo_name\": \"procrustes\",\n",
      "    \"k\": 15,\n",
      "    \"max_internal_iter\": 100,\n",
      "    \"max_iter\": 20,\n",
      "    \"metric\": \"euclidean\",\n",
      "    \"n_proc\": 6,\n",
      "    \"n_repel\": 0,\n",
      "    \"nu\": 3,\n",
      "    \"patience\": 5,\n",
      "    \"refine_algo_name\": \"rgd\",\n",
      "    \"repel_by\": 0.0,\n",
      "    \"to_tear\": true,\n",
      "    \"verbose\": true,\n",
      "    \"vis_before_init\": false\n",
      "}\n",
      "Computing local views using LPCA\n",
      "local_param: all 500 points processed...\n",
      "max distortion is 367.596864\n",
      "Done.\n",
      "##############################\n",
      "Time elapsed from last time log: 0.3 seconds\n",
      "Total time elapsed: 0.3 seconds\n",
      "##############################\n",
      "Posprocessing local parameterizations.\n",
      "#Param replaced: 390, max distortion: 18.494294\n",
      "#Param replaced: 58, max distortion: 18.241388\n",
      "#Param replaced: 13, max distortion: 18.241388\n",
      "#Param replaced: 3, max distortion: 18.241388\n",
      "#Param replaced: 0, max distortion: 18.241388\n",
      "Max local distortion after postprocessing: 18.241388479303467\n",
      "Done.\n",
      "##############################\n",
      "Time elapsed from last time log: 1.0 seconds\n",
      "Total time elapsed: 1.4 seconds\n",
      "##############################\n",
      "Max local distortion = 18.241388479303467\n"
     ]
    }
   ],
   "source": [
    "N_NEAREST_NEIGHBORS = 15\n",
    "\n",
    "buml_obj = buml_.BUML(local_opts={'algo':'LPCA', 'k': N_NEAREST_NEIGHBORS},\n",
    "                      vis_opts={'c': labelsMat[:,0], 'save_dir': save_dir_root},\n",
    "                      verbose=True, debug=True, exit_at='local_views')\n",
    "\n",
    "buml_obj.fit(X=X)\n"
   ],
   "metadata": {
    "collapsed": false,
    "ExecuteTime": {
     "start_time": "2023-04-07T12:24:20.226787Z",
     "end_time": "2023-04-07T12:24:21.791297Z"
    }
   }
  },
  {
   "cell_type": "markdown",
   "source": [
    "Read in the intrinsic dimension of the CNX and then initialize it by symmetrizing the kNN graph."
   ],
   "metadata": {
    "collapsed": false
   }
  },
  {
   "cell_type": "code",
   "execution_count": 18,
   "outputs": [],
   "source": [
    "INTRINSIC_DIMENSION = 2\n",
    "\n",
    "# U is a directed boolean adjacency matrix, so we symmetrize by adding U.T.\n",
    "# This weights directed and double edges equally.\n",
    "puppetGraphAdjacency = buml_obj.LocalViews.U + buml_obj.LocalViews.U.T - scipy.sparse.identity(N_IMAGES, format='lil')\n",
    "\n",
    "puppetGraph = cnx.ConnectionNetworkX(puppetGraphAdjacency, INTRINSIC_DIMENSION)\n"
   ],
   "metadata": {
    "collapsed": false,
    "ExecuteTime": {
     "start_time": "2023-04-07T12:32:14.602651Z",
     "end_time": "2023-04-07T12:32:15.947530Z"
    }
   }
  },
  {
   "cell_type": "markdown",
   "source": [
    "Interpolate the local PCA views by registering the overlap of adjacent nodes' neighborhoods, and then using orthogonal procrustes to align the views. This becomes the connection at the corresponding edge."
   ],
   "metadata": {
    "collapsed": false
   }
  },
  {
   "cell_type": "code",
   "execution_count": 20,
   "outputs": [
    {
     "name": "stderr",
     "output_type": "stream",
     "text": [
      "100%|██████████| 500/500 [00:20<00:00, 24.72it/s] "
     ]
    },
    {
     "name": "stdout",
     "output_type": "stream",
     "text": [
      "Proportion of remote edges :  0.0\n",
      "Proportion of edges visited:  1.0\n"
     ]
    },
    {
     "name": "stderr",
     "output_type": "stream",
     "text": [
      "\n"
     ]
    }
   ],
   "source": [
    "nRemoteEdges = 0\n",
    "nEdgesVisited = 0\n",
    "\n",
    "for i in tqdm(range(N_IMAGES)):\n",
    "    n_i = nx.neighbors(puppetGraph, i)\n",
    "    for j in [j for j in n_i if j > i]:\n",
    "\n",
    "        n_ij = buml_obj.LocalViews.U[i,:].multiply(buml_obj.LocalViews.U[j,:]).nonzero()[1]\n",
    "\n",
    "        if len(n_ij) >= INTRINSIC_DIMENSION:\n",
    "            X_Uij_i = buml_obj.LocalViews.local_param_post.eval_({'view_index': i, 'data_mask': n_ij})\n",
    "            X_Uij_j = buml_obj.LocalViews.local_param_post.eval_({'view_index': j, 'data_mask': n_ij})\n",
    "\n",
    "            Tij, _ = scipy.linalg.orthogonal_procrustes(X_Uij_i, X_Uij_j)\n",
    "            nEdgesVisited += 1\n",
    "\n",
    "            puppetGraph.updateEdgeSignature((i,j), Tij)\n",
    "\n",
    "        else:\n",
    "            puppetGraph.removeEdge((i,j))\n",
    "            nRemoteEdges += 1\n",
    "\n",
    "print('Proportion of remote edges : ', nRemoteEdges / puppetGraph.nNodes)\n",
    "print('Proportion of edges visited: ', nEdgesVisited / puppetGraph.nEdges)"
   ],
   "metadata": {
    "collapsed": false,
    "ExecuteTime": {
     "start_time": "2023-04-07T12:32:51.446526Z",
     "end_time": "2023-04-07T12:33:11.677144Z"
    }
   }
  },
  {
   "cell_type": "code",
   "execution_count": 21,
   "outputs": [
    {
     "name": "stdout",
     "output_type": "stream",
     "text": [
      "[3.8894733  3.75223958 3.54892276 3.44167883 3.27449941 2.8783835\n",
      " 2.56321946 2.49385858 2.44043973 2.38695761]\n",
      "MOST LIKELY INCONSISTENT: |lambda_min| >= 1e-8. \n"
     ]
    }
   ],
   "source": [
    "puppetGraph.printConnectionLaplacianEigenvalues()"
   ],
   "metadata": {
    "collapsed": false,
    "ExecuteTime": {
     "start_time": "2023-04-07T12:33:22.131512Z",
     "end_time": "2023-04-07T12:33:22.665999Z"
    }
   }
  },
  {
   "cell_type": "code",
   "execution_count": 9,
   "outputs": [],
   "source": [],
   "metadata": {
    "collapsed": false,
    "ExecuteTime": {
     "start_time": "2023-04-07T12:24:48.506461Z",
     "end_time": "2023-04-07T12:24:48.509691Z"
    }
   }
  }
 ],
 "metadata": {
  "kernelspec": {
   "display_name": "Python 3",
   "language": "python",
   "name": "python3"
  },
  "language_info": {
   "codemirror_mode": {
    "name": "ipython",
    "version": 2
   },
   "file_extension": ".py",
   "mimetype": "text/x-python",
   "name": "python",
   "nbconvert_exporter": "python",
   "pygments_lexer": "ipython2",
   "version": "2.7.6"
  }
 },
 "nbformat": 4,
 "nbformat_minor": 0
}
