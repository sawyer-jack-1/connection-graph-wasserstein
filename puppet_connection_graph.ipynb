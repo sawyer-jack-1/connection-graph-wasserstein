{
 "cells": [
  {
   "cell_type": "code",
   "execution_count": 12,
   "metadata": {
    "collapsed": true,
    "pycharm": {
     "name": "#%%\n"
    }
   },
   "outputs": [],
   "source": [
    "import os\n",
    "from pathlib import Path\n",
    "\n",
    "import puppets_data\n",
    "import ConnectionGraphX\n",
    "import GraphX\n",
    "\n",
    "import numpy as np\n",
    "import pandas as pd\n",
    "import scipy\n",
    "import networkx as nx\n",
    "\n",
    "from proxi.algorithms.knng import get_knn_graph\n",
    "from proxi.utils.misc import save_graph, save_weighted_graph\n",
    "from proxi.utils.process import *\n",
    "from proxi.utils.distance import abs_correlation"
   ]
  },
  {
   "cell_type": "code",
   "execution_count": 13,
   "outputs": [
    {
     "name": "stdout",
     "output_type": "stream",
     "text": [
      "X.shape =  (1000, 100)\n"
     ]
    }
   ],
   "source": [
    "p = \"C:/Users/Sawyer/Documents/python_projects/connection_graph_wasserstein/PuppetsData/\"\n",
    "\n",
    "## Just for time and sanity, using n = 100 while I test things.\n",
    "\n",
    "X = puppets_data.puppets_data(p, n = 1000)\n"
   ],
   "metadata": {
    "collapsed": false,
    "pycharm": {
     "name": "#%%\n"
    }
   }
  },
  {
   "cell_type": "code",
   "execution_count": 14,
   "outputs": [
    {
     "name": "stderr",
     "output_type": "stream",
     "text": [
      "G:\\My Drive\\python_projects\\PyGraphX\\venv\\lib\\site-packages\\scipy\\sparse\\_index.py:103: SparseEfficiencyWarning: Changing the sparsity structure of a csr_matrix is expensive. lil_matrix is more efficient.\n",
      "  self._set_intXint(row, col, x.flat[0])\n"
     ]
    }
   ],
   "source": [
    "N_IMAGES = X[0].shape[0]\n",
    "N_NEAREST_NEIGHBORS = 28   # Again, just for time.\n",
    "DIST = abs_correlation    # Used for kNN calculations\n",
    "\n",
    "df = pd.DataFrame(X[0])\n",
    "nodes, a = get_knn_graph(df, k=N_NEAREST_NEIGHBORS,  metric=DIST)\n"
   ],
   "metadata": {
    "collapsed": false,
    "pycharm": {
     "name": "#%%\n"
    }
   }
  },
  {
   "cell_type": "code",
   "execution_count": null,
   "outputs": [
    {
     "name": "stdout",
     "output_type": "stream",
     "text": [
      "(1000, 1000)\n"
     ]
    }
   ],
   "source": [
    "INTRINSIC_DIMENSION = 4\n",
    "print(a.toarray().shape)\n",
    "g = ConnectionGraphX.ConnectionGraphX(a.toarray(), INTRINSIC_DIMENSION)\n",
    "\n",
    "neighborhoodPCA = []\n",
    "\n",
    "for i in range(N_IMAGES):\n",
    "    features = []\n",
    "    for node in sorted(a[i].indices):\n",
    "        features.append(X[0][node])\n",
    "    neighborhoodPCA.append(puppets_data.do_pca(np.array(features), INTRINSIC_DIMENSION))\n",
    "\n",
    "for node in range(N_IMAGES):\n",
    "    iterNodes = [neighbor for neighbor in a[node].indices if neighbor > node]\n",
    "    for neighbor in iterNodes:\n",
    "        pcaDataNode = neighborhoodPCA[node]\n",
    "        pcaDataNeighbor = neighborhoodPCA[neighbor]\n",
    "        if len(pcaDataNode) < len(pcaDataNeighbor):\n",
    "            for i in range(len(pcaDataNeighbor) - len(pcaDataNode)):\n",
    "                pcaDataNode = np.vstack([pcaDataNode, [0] * INTRINSIC_DIMENSION])\n",
    "        if len(pcaDataNode) > len(pcaDataNeighbor):\n",
    "            for i in range(len(pcaDataNode) - len(pcaDataNeighbor)):\n",
    "                pcaDataNeighbor = np.vstack([pcaDataNeighbor, [0] * INTRINSIC_DIMENSION ])\n",
    "\n",
    "        # Scipy has its own procrustes implementation\n",
    "\n",
    "        O, _ = scipy.linalg.orthogonal_procrustes(pcaDataNode, pcaDataNeighbor)\n",
    "        g.setEdgeConnection((node, neighbor), O)\n",
    "\n"
   ],
   "metadata": {
    "collapsed": false,
    "pycharm": {
     "name": "#%%\n",
     "is_executing": true
    }
   }
  },
  {
   "cell_type": "code",
   "execution_count": null,
   "outputs": [],
   "source": [
    "h = nx.Graph(a)\n",
    "nx.draw_spectral(h)"
   ],
   "metadata": {
    "collapsed": false,
    "pycharm": {
     "name": "#%%\n",
     "is_executing": true
    }
   }
  },
  {
   "cell_type": "code",
   "execution_count": null,
   "outputs": [],
   "source": [],
   "metadata": {
    "collapsed": false,
    "pycharm": {
     "name": "#%%\n",
     "is_executing": true
    }
   }
  }
 ],
 "metadata": {
  "kernelspec": {
   "display_name": "Python 3",
   "language": "python",
   "name": "python3"
  },
  "language_info": {
   "codemirror_mode": {
    "name": "ipython",
    "version": 2
   },
   "file_extension": ".py",
   "mimetype": "text/x-python",
   "name": "python",
   "nbconvert_exporter": "python",
   "pygments_lexer": "ipython2",
   "version": "2.7.6"
  }
 },
 "nbformat": 4,
 "nbformat_minor": 0
}