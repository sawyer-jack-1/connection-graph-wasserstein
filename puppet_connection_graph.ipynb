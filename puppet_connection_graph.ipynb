{
 "cells": [
  {
   "cell_type": "code",
   "execution_count": 13,
   "metadata": {
    "collapsed": true,
    "ExecuteTime": {
     "start_time": "2023-04-05T12:27:59.101863Z",
     "end_time": "2023-04-05T12:27:59.146749Z"
    }
   },
   "outputs": [],
   "source": [
    "import os\n",
    "from pathlib import Path\n",
    "import random\n",
    "\n",
    "import puppets_data\n",
    "import ConnectionGraphX\n",
    "import GraphX\n",
    "\n",
    "import numpy as np\n",
    "import pandas as pd\n",
    "import scipy\n",
    "import networkx as nx\n",
    "\n",
    "import ConnectionNetworkX as cnx\n",
    "\n",
    "from pyLDLE2 import datasets\n",
    "from pyLDLE2 import buml_\n",
    "from pyLDLE2 import util_\n",
    "\n",
    "from proxi.algorithms.knng import get_knn_graph\n",
    "from proxi.utils.misc import save_graph, save_weighted_graph\n",
    "from proxi.utils.process import *\n",
    "from proxi.utils.distance import abs_correlation"
   ]
  },
  {
   "cell_type": "code",
   "execution_count": 14,
   "outputs": [],
   "source": [
    "p = \"/home/sawyerjack/IdeaProjects/data-git-ignore/PuppetsData\"\n",
    "save_dir_root = '/home/sawyerjack/IdeaProjects/connection-graph-wasserstein/data'\n",
    "\n",
    "## Just for time and sanity, using n = 100 while I test things.\n",
    "N_IMAGES = 1000"
   ],
   "metadata": {
    "collapsed": false,
    "ExecuteTime": {
     "start_time": "2023-04-05T12:27:59.145931Z",
     "end_time": "2023-04-05T12:27:59.195108Z"
    }
   }
  },
  {
   "cell_type": "code",
   "execution_count": 15,
   "outputs": [
    {
     "name": "stdout",
     "output_type": "stream",
     "text": [
      "X.shape =  (8100, 100)\n"
     ]
    }
   ],
   "source": [
    "Y, labelsMat, _ = puppets_data.puppets_data(p)"
   ],
   "metadata": {
    "collapsed": false,
    "ExecuteTime": {
     "start_time": "2023-04-05T12:27:59.196992Z",
     "end_time": "2023-04-05T12:30:10.534894Z"
    }
   }
  },
  {
   "cell_type": "code",
   "execution_count": 16,
   "outputs": [
    {
     "data": {
      "text/plain": "(1000, 100)"
     },
     "execution_count": 16,
     "metadata": {},
     "output_type": "execute_result"
    }
   ],
   "source": [
    "X = np.array(Y.copy())\n",
    "totalImages = X.shape[0]\n",
    "sampleIndices = random.sample(range(totalImages), N_IMAGES)\n",
    "X = [ X[i] for i in sampleIndices ]\n",
    "\n",
    "X = np.array(X)\n",
    "X.shape"
   ],
   "metadata": {
    "collapsed": false,
    "ExecuteTime": {
     "start_time": "2023-04-05T12:30:10.535817Z",
     "end_time": "2023-04-05T12:30:10.635583Z"
    }
   }
  },
  {
   "cell_type": "code",
   "execution_count": 17,
   "outputs": [
    {
     "name": "stdout",
     "output_type": "stream",
     "text": [
      "local_opts['k_nn0'] = 700 is created.\n",
      "Options provided:\n",
      "local_opts:\n",
      "{\n",
      "    \"Atilde_method\": \"LDLE_1\",\n",
      "    \"N\": 100,\n",
      "    \"U_method\": \"k_nn\",\n",
      "    \"algo\": \"LPCA\",\n",
      "    \"alpha\": 1,\n",
      "    \"debug\": true,\n",
      "    \"delta\": 0.9,\n",
      "    \"gl_type\": \"unnorm\",\n",
      "    \"k\": 28,\n",
      "    \"k_nn\": 49,\n",
      "    \"k_nn0\": 700,\n",
      "    \"k_tune\": 7,\n",
      "    \"lambda1_decay\": 0.75,\n",
      "    \"lambda1_init\": 8,\n",
      "    \"lambda1_min\": 0.001,\n",
      "    \"max_iter\": 300,\n",
      "    \"max_sparsity\": 0.9,\n",
      "    \"metric\": \"euclidean\",\n",
      "    \"n_proc\": 6,\n",
      "    \"p\": 0.99,\n",
      "    \"power\": 5,\n",
      "    \"pp_n_thresh\": 32,\n",
      "    \"radius\": 0.5,\n",
      "    \"reg\": 0.0,\n",
      "    \"scale_by\": \"gamma\",\n",
      "    \"tau\": 50,\n",
      "    \"to_postprocess\": true,\n",
      "    \"verbose\": true\n",
      "}\n",
      "intermed_opts:\n",
      "{\n",
      "    \"algo\": \"best\",\n",
      "    \"debug\": true,\n",
      "    \"eta_max\": 25,\n",
      "    \"eta_min\": 5,\n",
      "    \"len_S_thresh\": 256,\n",
      "    \"local_algo\": \"LPCA\",\n",
      "    \"metric\": \"euclidean\",\n",
      "    \"n_proc\": 6,\n",
      "    \"n_times\": 4,\n",
      "    \"verbose\": true\n",
      "}\n",
      "global_opts:\n",
      "{\n",
      "    \"add_dim\": false,\n",
      "    \"align_transform\": \"rigid\",\n",
      "    \"align_w_parent_only\": true,\n",
      "    \"alpha\": 0.3,\n",
      "    \"beta\": {\n",
      "        \"align\": null,\n",
      "        \"repel\": 1\n",
      "    },\n",
      "    \"color_tear\": true,\n",
      "    \"compute_error\": false,\n",
      "    \"debug\": true,\n",
      "    \"eps\": 1e-08,\n",
      "    \"err_tol\": 0.0001,\n",
      "    \"far_off_points_type\": \"reuse_fixed\",\n",
      "    \"init_algo_name\": \"procrustes\",\n",
      "    \"k\": 28,\n",
      "    \"max_internal_iter\": 100,\n",
      "    \"max_iter\": 20,\n",
      "    \"metric\": \"euclidean\",\n",
      "    \"n_proc\": 6,\n",
      "    \"n_repel\": 0,\n",
      "    \"nu\": 3,\n",
      "    \"patience\": 5,\n",
      "    \"refine_algo_name\": \"rgd\",\n",
      "    \"repel_by\": 0.0,\n",
      "    \"to_tear\": true,\n",
      "    \"verbose\": true,\n",
      "    \"vis_before_init\": false\n",
      "}\n",
      "Computing local views using LPCA\n",
      "local_param: all 1000 points processed...\n",
      "max distortion is 1399.063715\n",
      "Done.\n",
      "##############################\n",
      "Time elapsed from last time log: 0.5 seconds\n",
      "Total time elapsed: 0.5 seconds\n",
      "##############################\n",
      "Posprocessing local parameterizations.\n",
      "#Param replaced: 852, max distortion: 24.366899\n",
      "#Param replaced: 73, max distortion: 24.119968\n",
      "#Param replaced: 11, max distortion: 24.119968\n",
      "#Param replaced: 4, max distortion: 24.119968\n",
      "#Param replaced: 1, max distortion: 24.119968\n",
      "#Param replaced: 0, max distortion: 24.119968\n",
      "Max local distortion after postprocessing: 24.11996841807384\n",
      "Done.\n",
      "##############################\n",
      "Time elapsed from last time log: 1.9 seconds\n",
      "Total time elapsed: 2.5 seconds\n",
      "##############################\n",
      "Max local distortion = 24.11996841807384\n"
     ]
    }
   ],
   "source": [
    "buml_obj = buml_.BUML(local_opts={'algo':'LPCA', 'k': 28},\n",
    "                      vis_opts={'c': labelsMat[:,0], 'save_dir': save_dir_root},\n",
    "                      verbose=True, debug=True, exit_at='local_views')\n",
    "\n",
    "buml_obj.fit(X=X)\n"
   ],
   "metadata": {
    "collapsed": false,
    "ExecuteTime": {
     "start_time": "2023-04-05T12:30:10.689807Z",
     "end_time": "2023-04-05T12:30:13.674657Z"
    }
   }
  },
  {
   "cell_type": "code",
   "execution_count": 18,
   "outputs": [
    {
     "ename": "TypeError",
     "evalue": "The numpy boolean negative, the `-` operator, is not supported, use the `~` operator or the logical_not function instead.",
     "output_type": "error",
     "traceback": [
      "\u001B[0;31m---------------------------------------------------------------------------\u001B[0m",
      "\u001B[0;31mTypeError\u001B[0m                                 Traceback (most recent call last)",
      "Cell \u001B[0;32mIn[18], line 4\u001B[0m\n\u001B[1;32m      1\u001B[0m INTRINSIC_DIMENSION \u001B[38;5;241m=\u001B[39m \u001B[38;5;241m2\u001B[39m\n\u001B[1;32m      3\u001B[0m directedPuppetGraph \u001B[38;5;241m=\u001B[39m nx\u001B[38;5;241m.\u001B[39mDiGraph(buml_obj\u001B[38;5;241m.\u001B[39mLocalViews\u001B[38;5;241m.\u001B[39mU)\n\u001B[0;32m----> 4\u001B[0m a \u001B[38;5;241m=\u001B[39m \u001B[43mnx\u001B[49m\u001B[38;5;241;43m.\u001B[39;49m\u001B[43madjacency_matrix\u001B[49m\u001B[43m(\u001B[49m\u001B[43mdirectedPuppetGraph\u001B[49m\u001B[38;5;241;43m.\u001B[39;49m\u001B[43mto_undirected\u001B[49m\u001B[43m(\u001B[49m\u001B[43m)\u001B[49m\u001B[43m)\u001B[49m\n\u001B[1;32m      5\u001B[0m puppetGraph \u001B[38;5;241m=\u001B[39m cnx\u001B[38;5;241m.\u001B[39mConnectionNetworkX(a, INTRINSIC_DIMENSION)\n",
      "File \u001B[0;32m~/.local/lib/python3.10/site-packages/networkx/linalg/graphmatrix.py:157\u001B[0m, in \u001B[0;36madjacency_matrix\u001B[0;34m(G, nodelist, dtype, weight)\u001B[0m\n\u001B[1;32m     99\u001B[0m \u001B[38;5;28;01mdef\u001B[39;00m \u001B[38;5;21madjacency_matrix\u001B[39m(G, nodelist\u001B[38;5;241m=\u001B[39m\u001B[38;5;28;01mNone\u001B[39;00m, dtype\u001B[38;5;241m=\u001B[39m\u001B[38;5;28;01mNone\u001B[39;00m, weight\u001B[38;5;241m=\u001B[39m\u001B[38;5;124m\"\u001B[39m\u001B[38;5;124mweight\u001B[39m\u001B[38;5;124m\"\u001B[39m):\n\u001B[1;32m    100\u001B[0m \u001B[38;5;250m    \u001B[39m\u001B[38;5;124;03m\"\"\"Returns adjacency matrix of G.\u001B[39;00m\n\u001B[1;32m    101\u001B[0m \n\u001B[1;32m    102\u001B[0m \u001B[38;5;124;03m    Parameters\u001B[39;00m\n\u001B[0;32m   (...)\u001B[0m\n\u001B[1;32m    155\u001B[0m \u001B[38;5;124;03m    adjacency_spectrum\u001B[39;00m\n\u001B[1;32m    156\u001B[0m \u001B[38;5;124;03m    \"\"\"\u001B[39;00m\n\u001B[0;32m--> 157\u001B[0m     \u001B[38;5;28;01mreturn\u001B[39;00m \u001B[43mnx\u001B[49m\u001B[38;5;241;43m.\u001B[39;49m\u001B[43mto_scipy_sparse_array\u001B[49m\u001B[43m(\u001B[49m\u001B[43mG\u001B[49m\u001B[43m,\u001B[49m\u001B[43m \u001B[49m\u001B[43mnodelist\u001B[49m\u001B[38;5;241;43m=\u001B[39;49m\u001B[43mnodelist\u001B[49m\u001B[43m,\u001B[49m\u001B[43m \u001B[49m\u001B[43mdtype\u001B[49m\u001B[38;5;241;43m=\u001B[39;49m\u001B[43mdtype\u001B[49m\u001B[43m,\u001B[49m\u001B[43m \u001B[49m\u001B[43mweight\u001B[49m\u001B[38;5;241;43m=\u001B[39;49m\u001B[43mweight\u001B[49m\u001B[43m)\u001B[49m\n",
      "File \u001B[0;32m~/.local/lib/python3.10/site-packages/networkx/convert_matrix.py:589\u001B[0m, in \u001B[0;36mto_scipy_sparse_array\u001B[0;34m(G, nodelist, dtype, weight, format)\u001B[0m\n\u001B[1;32m    587\u001B[0m selfloops \u001B[38;5;241m=\u001B[39m \u001B[38;5;28mlist\u001B[39m(nx\u001B[38;5;241m.\u001B[39mselfloop_edges(G, data\u001B[38;5;241m=\u001B[39mweight, default\u001B[38;5;241m=\u001B[39m\u001B[38;5;241m1\u001B[39m))\n\u001B[1;32m    588\u001B[0m \u001B[38;5;28;01mif\u001B[39;00m selfloops:\n\u001B[0;32m--> 589\u001B[0m     diag_index, diag_data \u001B[38;5;241m=\u001B[39m \u001B[38;5;28;43mzip\u001B[39;49m\u001B[43m(\u001B[49m\u001B[38;5;241;43m*\u001B[39;49m\u001B[43m(\u001B[49m\u001B[43m(\u001B[49m\u001B[43mindex\u001B[49m\u001B[43m[\u001B[49m\u001B[43mu\u001B[49m\u001B[43m]\u001B[49m\u001B[43m,\u001B[49m\u001B[43m \u001B[49m\u001B[38;5;241;43m-\u001B[39;49m\u001B[43mwt\u001B[49m\u001B[43m)\u001B[49m\u001B[43m \u001B[49m\u001B[38;5;28;43;01mfor\u001B[39;49;00m\u001B[43m \u001B[49m\u001B[43mu\u001B[49m\u001B[43m,\u001B[49m\u001B[43m \u001B[49m\u001B[43mv\u001B[49m\u001B[43m,\u001B[49m\u001B[43m \u001B[49m\u001B[43mwt\u001B[49m\u001B[43m \u001B[49m\u001B[38;5;129;43;01min\u001B[39;49;00m\u001B[43m \u001B[49m\u001B[43mselfloops\u001B[49m\u001B[43m)\u001B[49m\u001B[43m)\u001B[49m\n\u001B[1;32m    590\u001B[0m     d \u001B[38;5;241m+\u001B[39m\u001B[38;5;241m=\u001B[39m diag_data\n\u001B[1;32m    591\u001B[0m     r \u001B[38;5;241m+\u001B[39m\u001B[38;5;241m=\u001B[39m diag_index\n",
      "File \u001B[0;32m~/.local/lib/python3.10/site-packages/networkx/convert_matrix.py:589\u001B[0m, in \u001B[0;36m<genexpr>\u001B[0;34m(.0)\u001B[0m\n\u001B[1;32m    587\u001B[0m selfloops \u001B[38;5;241m=\u001B[39m \u001B[38;5;28mlist\u001B[39m(nx\u001B[38;5;241m.\u001B[39mselfloop_edges(G, data\u001B[38;5;241m=\u001B[39mweight, default\u001B[38;5;241m=\u001B[39m\u001B[38;5;241m1\u001B[39m))\n\u001B[1;32m    588\u001B[0m \u001B[38;5;28;01mif\u001B[39;00m selfloops:\n\u001B[0;32m--> 589\u001B[0m     diag_index, diag_data \u001B[38;5;241m=\u001B[39m \u001B[38;5;28mzip\u001B[39m(\u001B[38;5;241m*\u001B[39m((index[u], \u001B[38;5;241;43m-\u001B[39;49m\u001B[43mwt\u001B[49m) \u001B[38;5;28;01mfor\u001B[39;00m u, v, wt \u001B[38;5;129;01min\u001B[39;00m selfloops))\n\u001B[1;32m    590\u001B[0m     d \u001B[38;5;241m+\u001B[39m\u001B[38;5;241m=\u001B[39m diag_data\n\u001B[1;32m    591\u001B[0m     r \u001B[38;5;241m+\u001B[39m\u001B[38;5;241m=\u001B[39m diag_index\n",
      "\u001B[0;31mTypeError\u001B[0m: The numpy boolean negative, the `-` operator, is not supported, use the `~` operator or the logical_not function instead."
     ]
    }
   ],
   "source": [
    "INTRINSIC_DIMENSION = 2\n",
    "\n",
    "directedPuppetGraph = nx.DiGraph(buml_obj.LocalViews.U)\n",
    "a = nx.adjacency_matrix(directedPuppetGraph.to_undirected())\n",
    "puppetGraph = cnx.ConnectionNetworkX(a, INTRINSIC_DIMENSION)"
   ],
   "metadata": {
    "collapsed": false
   }
  },
  {
   "cell_type": "code",
   "execution_count": null,
   "outputs": [],
   "source": [
    "for i in range(N_IMAGES):\n",
    "    n_i = nx.neighbors(puppetGraph, i)\n",
    "    for j in [j for j in n_i if j > i]:\n",
    "        n_ij = buml_obj.LocalViews.U[i,:].multiply(buml_obj.LocalViews.U[j,:]).nonzero()[1]\n",
    "        X_Uij_i = buml_obj.LocalViews.local_param_post.eval_({'view_index': i, 'data_mask': n_ij})\n",
    "        X_Uij_j = buml_obj.LocalViews.local_param_post.eval_({'view_index': j, 'data_mask': n_ij})\n",
    "        Tij, _ = util_.custom_procrustes(X_Uij_i, X_Uij_j)\n",
    "\n",
    "        puppetGraph.updateEdgeSignature((i,j), Tij)\n"
   ],
   "metadata": {
    "collapsed": false,
    "ExecuteTime": {
     "start_time": "2023-04-04T16:51:38.703150Z",
     "end_time": "2023-04-04T16:51:51.816219Z"
    }
   }
  },
  {
   "cell_type": "code",
   "execution_count": null,
   "outputs": [],
   "source": [],
   "metadata": {
    "collapsed": false
   }
  }
 ],
 "metadata": {
  "kernelspec": {
   "display_name": "Python 3",
   "language": "python",
   "name": "python3"
  },
  "language_info": {
   "codemirror_mode": {
    "name": "ipython",
    "version": 2
   },
   "file_extension": ".py",
   "mimetype": "text/x-python",
   "name": "python",
   "nbconvert_exporter": "python",
   "pygments_lexer": "ipython2",
   "version": "2.7.6"
  }
 },
 "nbformat": 4,
 "nbformat_minor": 0
}
